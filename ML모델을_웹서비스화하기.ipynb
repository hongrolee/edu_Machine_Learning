{
  "nbformat": 4,
  "nbformat_minor": 0,
  "metadata": {
    "colab": {
      "provenance": [],
      "mount_file_id": "1nYoc6zVRF2MkyCWXWGYwUGZFfHwprEj7",
      "authorship_tag": "ABX9TyOF5k1M8RqHP2qVUw3P/tWk",
      "include_colab_link": true
    },
    "kernelspec": {
      "name": "python3",
      "display_name": "Python 3"
    },
    "language_info": {
      "name": "python"
    }
  },
  "cells": [
    {
      "cell_type": "markdown",
      "metadata": {
        "id": "view-in-github",
        "colab_type": "text"
      },
      "source": [
        "<a href=\"https://colab.research.google.com/github/hongrolee/edu_Machine_Learning/blob/main/ML%EB%AA%A8%EB%8D%B8%EC%9D%84_%EC%9B%B9%EC%84%9C%EB%B9%84%EC%8A%A4%ED%99%94%ED%95%98%EA%B8%B0.ipynb\" target=\"_parent\"><img src=\"https://colab.research.google.com/assets/colab-badge.svg\" alt=\"Open In Colab\"/></a>"
      ]
    },
    {
      "cell_type": "code",
      "source": [
        "from google.colab import drive\n",
        "drive.mount('/content/drive')\n",
        "\n",
        "import os\n",
        "os.chdir('/content/drive/MyDrive/edu_machine_learning')\n"
      ],
      "metadata": {
        "colab": {
          "base_uri": "https://localhost:8080/"
        },
        "id": "TIUQE8AZ2SMu",
        "outputId": "1c1634b4-c3f1-4ff5-84da-9766289b823c"
      },
      "execution_count": 27,
      "outputs": [
        {
          "output_type": "stream",
          "name": "stdout",
          "text": [
            "Drive already mounted at /content/drive; to attempt to forcibly remount, call drive.mount(\"/content/drive\", force_remount=True).\n"
          ]
        }
      ]
    },
    {
      "cell_type": "code",
      "execution_count": 28,
      "metadata": {
        "colab": {
          "base_uri": "https://localhost:8080/"
        },
        "id": "o9uLvIertFvr",
        "outputId": "f233ad26-6195-4d4f-f971-2ae9bc96b780"
      },
      "outputs": [
        {
          "output_type": "stream",
          "name": "stdout",
          "text": [
            "0.9225512936540917\n",
            "0.9487283360348984\n"
          ]
        },
        {
          "output_type": "execute_result",
          "data": {
            "text/plain": [
              "['fish_weight_model.pkl']"
            ]
          },
          "metadata": {},
          "execution_count": 28
        }
      ],
      "source": [
        "from sklearn.datasets import load_iris\n",
        "from sklearn.tree import DecisionTreeClassifier\n",
        "import pandas as pd\n",
        "\n",
        "# iris 데이터 읽어오기\n",
        "iris = load_iris()\n",
        "# X = iris.data[:, 2:] # petal length and width\n",
        "df = pd.DataFrame(iris.data, columns=iris.feature_names)\n",
        "df['class'] = iris.target\n",
        "X = iris.data\n",
        "y = iris.target\n",
        "\n",
        "# 훈련 및 테스트 세트 분리\n",
        "from sklearn.model_selection import train_test_split\n",
        "X_train, X_test, y_train, y_test = train_test_split(\n",
        "    X, y, random_state=42)\n",
        "\n",
        "# 선형 회귀 모델로 학습\n",
        "from sklearn.linear_model import LinearRegression\n",
        "model = LinearRegression()\n",
        "model.fit(X_train, y_train)\n",
        "print(model.score(X_train, y_train))\n",
        "print(model.score(X_test, y_test))\n",
        "\n",
        "# 모델 저장하기\n",
        "import joblib\n",
        "joblib.dump(model, \"fish_weight_model.pkl\")"
      ]
    }
  ]
}